{
 "cells": [
  {
   "cell_type": "markdown",
   "metadata": {},
   "source": [
    "**Actividad 3.1 (Valores Nulos)**"
   ]
  },
  {
   "cell_type": "markdown",
   "metadata": {},
   "source": [
    "Importar librerias"
   ]
  },
  {
   "cell_type": "code",
   "execution_count": 1,
   "metadata": {},
   "outputs": [],
   "source": [
    "import pandas as pd\n",
    "import numpy as np\n",
    "import matplotlib.pyplot as plt\n",
    "import seaborn as sns"
   ]
  },
  {
   "cell_type": "markdown",
   "metadata": {},
   "source": [
    "Lectura documento de Naples con las 50 variables elegidas entre el equipo"
   ]
  },
  {
   "cell_type": "code",
   "execution_count": 2,
   "metadata": {},
   "outputs": [
    {
     "data": {
      "text/html": [
       "<div>\n",
       "<style scoped>\n",
       "    .dataframe tbody tr th:only-of-type {\n",
       "        vertical-align: middle;\n",
       "    }\n",
       "\n",
       "    .dataframe tbody tr th {\n",
       "        vertical-align: top;\n",
       "    }\n",
       "\n",
       "    .dataframe thead th {\n",
       "        text-align: right;\n",
       "    }\n",
       "</style>\n",
       "<table border=\"1\" class=\"dataframe\">\n",
       "  <thead>\n",
       "    <tr style=\"text-align: right;\">\n",
       "      <th></th>\n",
       "      <th>id</th>\n",
       "      <th>last_scraped</th>\n",
       "      <th>name</th>\n",
       "      <th>description</th>\n",
       "      <th>neighborhood_overview</th>\n",
       "      <th>picture_url</th>\n",
       "      <th>host_name</th>\n",
       "      <th>host_since</th>\n",
       "      <th>host_about</th>\n",
       "      <th>host_response_time</th>\n",
       "      <th>...</th>\n",
       "      <th>review_scores_rating</th>\n",
       "      <th>review_scores_accuracy</th>\n",
       "      <th>review_scores_cleanliness</th>\n",
       "      <th>review_scores_checkin</th>\n",
       "      <th>review_scores_communication</th>\n",
       "      <th>review_scores_location</th>\n",
       "      <th>review_scores_value</th>\n",
       "      <th>license</th>\n",
       "      <th>instant_bookable</th>\n",
       "      <th>reviews_per_month</th>\n",
       "    </tr>\n",
       "  </thead>\n",
       "  <tbody>\n",
       "    <tr>\n",
       "      <th>0</th>\n",
       "      <td>30466.0</td>\n",
       "      <td>17/09/2024</td>\n",
       "      <td>Naturists rooms in the heart of city</td>\n",
       "      <td>Right in the heart of Napoli  you can walk any...</td>\n",
       "      <td>close to 2 underground lines, next to bus stop...</td>\n",
       "      <td>https://a0.muscache.com/pictures/miso/Hosting-...</td>\n",
       "      <td>Gigi</td>\n",
       "      <td>11/04/2014</td>\n",
       "      <td>Innamorato della bellezza quindi la cerco in o...</td>\n",
       "      <td>NaN</td>\n",
       "      <td>...</td>\n",
       "      <td>4.67</td>\n",
       "      <td>4.67</td>\n",
       "      <td>5.00</td>\n",
       "      <td>4.67</td>\n",
       "      <td>5.00</td>\n",
       "      <td>5.00</td>\n",
       "      <td>4.67</td>\n",
       "      <td>NaN</td>\n",
       "      <td>f</td>\n",
       "      <td>0.18</td>\n",
       "    </tr>\n",
       "    <tr>\n",
       "      <th>1</th>\n",
       "      <td>30536.0</td>\n",
       "      <td>17/09/2024</td>\n",
       "      <td>cosy room to let  in naples</td>\n",
       "      <td>Oriental decorated apartment with wonderful te...</td>\n",
       "      <td>Centrally located,close to public transport, i...</td>\n",
       "      <td>https://a0.muscache.com/pictures/171280/92fe69...</td>\n",
       "      <td>Gigi</td>\n",
       "      <td>11/04/2014</td>\n",
       "      <td>Innamorato della bellezza quindi la cerco in o...</td>\n",
       "      <td>NaN</td>\n",
       "      <td>...</td>\n",
       "      <td>4.74</td>\n",
       "      <td>4.83</td>\n",
       "      <td>4.72</td>\n",
       "      <td>4.83</td>\n",
       "      <td>4.78</td>\n",
       "      <td>4.44</td>\n",
       "      <td>4.56</td>\n",
       "      <td>NaN</td>\n",
       "      <td>f</td>\n",
       "      <td>0.11</td>\n",
       "    </tr>\n",
       "    <tr>\n",
       "      <th>2</th>\n",
       "      <td>63413.0</td>\n",
       "      <td>17/09/2024</td>\n",
       "      <td>Charming Room on Riviera di Chiaia</td>\n",
       "      <td>Centrally located and at walking distance to t...</td>\n",
       "      <td>The house is located in a lively and popular n...</td>\n",
       "      <td>https://a0.muscache.com/pictures/389538/99361e...</td>\n",
       "      <td>Paola</td>\n",
       "      <td>04/12/2010</td>\n",
       "      <td>Le Stanze dei Pollano - this is our website</td>\n",
       "      <td>within a few hours</td>\n",
       "      <td>...</td>\n",
       "      <td>4.65</td>\n",
       "      <td>4.78</td>\n",
       "      <td>4.50</td>\n",
       "      <td>4.92</td>\n",
       "      <td>4.82</td>\n",
       "      <td>4.73</td>\n",
       "      <td>4.68</td>\n",
       "      <td>NaN</td>\n",
       "      <td>f</td>\n",
       "      <td>0.93</td>\n",
       "    </tr>\n",
       "    <tr>\n",
       "      <th>3</th>\n",
       "      <td>74364.0</td>\n",
       "      <td>17/09/2024</td>\n",
       "      <td>Cozy place in a princely Palace inside Old Town</td>\n",
       "      <td>A really cozy studio (24 square meters) in a p...</td>\n",
       "      <td>The flat is in the OLD TOWN od Napoli with 2 m...</td>\n",
       "      <td>https://a0.muscache.com/pictures/c8a48f3d-1be3...</td>\n",
       "      <td>Davide</td>\n",
       "      <td>17/11/2010</td>\n",
       "      <td>Architecture, art, archeology, good food.</td>\n",
       "      <td>within an hour</td>\n",
       "      <td>...</td>\n",
       "      <td>4.89</td>\n",
       "      <td>4.88</td>\n",
       "      <td>4.92</td>\n",
       "      <td>4.96</td>\n",
       "      <td>4.97</td>\n",
       "      <td>4.84</td>\n",
       "      <td>4.89</td>\n",
       "      <td>NaN</td>\n",
       "      <td>f</td>\n",
       "      <td>1.68</td>\n",
       "    </tr>\n",
       "    <tr>\n",
       "      <th>4</th>\n",
       "      <td>76993.0</td>\n",
       "      <td>17/09/2024</td>\n",
       "      <td>Central Cebollitas B&amp;B, spacious private ensuite.</td>\n",
       "      <td>A bright, sunny home in vomero area (on a hill...</td>\n",
       "      <td>La casa di Cebollitas si trova a Napoli, Campa...</td>\n",
       "      <td>https://a0.muscache.com/pictures/miso/Hosting-...</td>\n",
       "      <td>Cebollitas</td>\n",
       "      <td>26/02/2011</td>\n",
       "      <td>Cebollitas is a homely modern b&amp;b  situated in...</td>\n",
       "      <td>within an hour</td>\n",
       "      <td>...</td>\n",
       "      <td>4.97</td>\n",
       "      <td>4.90</td>\n",
       "      <td>4.94</td>\n",
       "      <td>4.90</td>\n",
       "      <td>4.98</td>\n",
       "      <td>4.92</td>\n",
       "      <td>4.94</td>\n",
       "      <td>NaN</td>\n",
       "      <td>f</td>\n",
       "      <td>0.52</td>\n",
       "    </tr>\n",
       "  </tbody>\n",
       "</table>\n",
       "<p>5 rows × 50 columns</p>\n",
       "</div>"
      ],
      "text/plain": [
       "        id last_scraped                                               name  \\\n",
       "0  30466.0   17/09/2024               Naturists rooms in the heart of city   \n",
       "1  30536.0   17/09/2024                        cosy room to let  in naples   \n",
       "2  63413.0   17/09/2024                 Charming Room on Riviera di Chiaia   \n",
       "3  74364.0   17/09/2024    Cozy place in a princely Palace inside Old Town   \n",
       "4  76993.0   17/09/2024  Central Cebollitas B&B, spacious private ensuite.   \n",
       "\n",
       "                                         description  \\\n",
       "0  Right in the heart of Napoli  you can walk any...   \n",
       "1  Oriental decorated apartment with wonderful te...   \n",
       "2  Centrally located and at walking distance to t...   \n",
       "3  A really cozy studio (24 square meters) in a p...   \n",
       "4  A bright, sunny home in vomero area (on a hill...   \n",
       "\n",
       "                               neighborhood_overview  \\\n",
       "0  close to 2 underground lines, next to bus stop...   \n",
       "1  Centrally located,close to public transport, i...   \n",
       "2  The house is located in a lively and popular n...   \n",
       "3  The flat is in the OLD TOWN od Napoli with 2 m...   \n",
       "4  La casa di Cebollitas si trova a Napoli, Campa...   \n",
       "\n",
       "                                         picture_url   host_name  host_since  \\\n",
       "0  https://a0.muscache.com/pictures/miso/Hosting-...        Gigi  11/04/2014   \n",
       "1  https://a0.muscache.com/pictures/171280/92fe69...        Gigi  11/04/2014   \n",
       "2  https://a0.muscache.com/pictures/389538/99361e...       Paola  04/12/2010   \n",
       "3  https://a0.muscache.com/pictures/c8a48f3d-1be3...      Davide  17/11/2010   \n",
       "4  https://a0.muscache.com/pictures/miso/Hosting-...  Cebollitas  26/02/2011   \n",
       "\n",
       "                                          host_about  host_response_time  ...  \\\n",
       "0  Innamorato della bellezza quindi la cerco in o...                 NaN  ...   \n",
       "1  Innamorato della bellezza quindi la cerco in o...                 NaN  ...   \n",
       "2        Le Stanze dei Pollano - this is our website  within a few hours  ...   \n",
       "3          Architecture, art, archeology, good food.      within an hour  ...   \n",
       "4  Cebollitas is a homely modern b&b  situated in...      within an hour  ...   \n",
       "\n",
       "   review_scores_rating  review_scores_accuracy review_scores_cleanliness  \\\n",
       "0                  4.67                    4.67                      5.00   \n",
       "1                  4.74                    4.83                      4.72   \n",
       "2                  4.65                    4.78                      4.50   \n",
       "3                  4.89                    4.88                      4.92   \n",
       "4                  4.97                    4.90                      4.94   \n",
       "\n",
       "   review_scores_checkin  review_scores_communication review_scores_location  \\\n",
       "0                   4.67                         5.00                   5.00   \n",
       "1                   4.83                         4.78                   4.44   \n",
       "2                   4.92                         4.82                   4.73   \n",
       "3                   4.96                         4.97                   4.84   \n",
       "4                   4.90                         4.98                   4.92   \n",
       "\n",
       "  review_scores_value license instant_bookable reviews_per_month  \n",
       "0                4.67     NaN                f              0.18  \n",
       "1                4.56     NaN                f              0.11  \n",
       "2                4.68     NaN                f              0.93  \n",
       "3                4.89     NaN                f              1.68  \n",
       "4                4.94     NaN                f              0.52  \n",
       "\n",
       "[5 rows x 50 columns]"
      ]
     },
     "execution_count": 2,
     "metadata": {},
     "output_type": "execute_result"
    }
   ],
   "source": [
    "data = pd.read_csv('Naples_50Var.csv', encoding=\"iso-8859-1\")\n",
    "data.head()"
   ]
  },
  {
   "cell_type": "markdown",
   "metadata": {},
   "source": [
    "Información del DataFrame"
   ]
  },
  {
   "cell_type": "code",
   "execution_count": 14,
   "metadata": {},
   "outputs": [
    {
     "name": "stdout",
     "output_type": "stream",
     "text": [
      "<class 'pandas.core.frame.DataFrame'>\n",
      "RangeIndex: 11027 entries, 0 to 11026\n",
      "Data columns (total 50 columns):\n",
      " #   Column                       Non-Null Count  Dtype  \n",
      "---  ------                       --------------  -----  \n",
      " 0   id                           11027 non-null  float64\n",
      " 1   last_scraped                 11027 non-null  object \n",
      " 2   name                         11027 non-null  object \n",
      " 3   description                  10754 non-null  object \n",
      " 4   neighborhood_overview        5504 non-null   object \n",
      " 5   picture_url                  11027 non-null  object \n",
      " 6   host_name                    11027 non-null  object \n",
      " 7   host_since                   11027 non-null  object \n",
      " 8   host_about                   4025 non-null   object \n",
      " 9   host_response_time           8559 non-null   object \n",
      " 10  host_response_rate           8431 non-null   float64\n",
      " 11  host_acceptance_rate         9301 non-null   float64\n",
      " 12  host_is_superhost            10639 non-null  object \n",
      " 13  host_listings_count          11027 non-null  int64  \n",
      " 14  host_total_listings_count    11027 non-null  int64  \n",
      " 15  host_verifications           11027 non-null  object \n",
      " 16  host_has_profile_pic         11027 non-null  object \n",
      " 17  host_identity_verified       11027 non-null  object \n",
      " 18  neighbourhood                5504 non-null   object \n",
      " 19  property_type                11027 non-null  object \n",
      " 20  room_type                    11027 non-null  object \n",
      " 21  accommodates                 11027 non-null  int64  \n",
      " 22  bathrooms                    10348 non-null  float64\n",
      " 23  bathrooms_text               11011 non-null  object \n",
      " 24  bedrooms                     10916 non-null  float64\n",
      " 25  beds                         10325 non-null  float64\n",
      " 26  amenities                    11027 non-null  object \n",
      " 27  price                        10356 non-null  float64\n",
      " 28  minimum_nights               11027 non-null  int64  \n",
      " 29  maximum_nights               11027 non-null  int64  \n",
      " 30  calendar_updated             0 non-null      float64\n",
      " 31  has_availability             10995 non-null  object \n",
      " 32  availability_30              11027 non-null  int64  \n",
      " 33  availability_60              11027 non-null  int64  \n",
      " 34  availability_365             11027 non-null  int64  \n",
      " 35  calendar_last_scraped        11027 non-null  object \n",
      " 36  number_of_reviews            11027 non-null  int64  \n",
      " 37  number_of_reviews_ltm        11027 non-null  int64  \n",
      " 38  number_of_reviews_l30d       11027 non-null  int64  \n",
      " 39  last_review                  8578 non-null   object \n",
      " 40  review_scores_rating         8578 non-null   float64\n",
      " 41  review_scores_accuracy       8577 non-null   float64\n",
      " 42  review_scores_cleanliness    8577 non-null   float64\n",
      " 43  review_scores_checkin        8577 non-null   float64\n",
      " 44  review_scores_communication  8578 non-null   float64\n",
      " 45  review_scores_location       8577 non-null   float64\n",
      " 46  review_scores_value          8578 non-null   float64\n",
      " 47  license                      1538 non-null   object \n",
      " 48  instant_bookable             11027 non-null  object \n",
      " 49  reviews_per_month            8578 non-null   float64\n",
      "dtypes: float64(16), int64(11), object(23)\n",
      "memory usage: 4.2+ MB\n"
     ]
    }
   ],
   "source": [
    "data.info()"
   ]
  },
  {
   "cell_type": "markdown",
   "metadata": {},
   "source": [
    "Identificar valores nulos por columna"
   ]
  },
  {
   "cell_type": "code",
   "execution_count": 13,
   "metadata": {},
   "outputs": [
    {
     "data": {
      "text/plain": [
       "id                                 0\n",
       "last_scraped                       0\n",
       "name                               0\n",
       "description                      273\n",
       "neighborhood_overview           5523\n",
       "picture_url                        0\n",
       "host_name                          0\n",
       "host_since                         0\n",
       "host_about                      7002\n",
       "host_response_time              2468\n",
       "host_response_rate              2596\n",
       "host_acceptance_rate            1726\n",
       "host_is_superhost                388\n",
       "host_listings_count                0\n",
       "host_total_listings_count          0\n",
       "host_verifications                 0\n",
       "host_has_profile_pic               0\n",
       "host_identity_verified             0\n",
       "neighbourhood                   5523\n",
       "property_type                      0\n",
       "room_type                          0\n",
       "accommodates                       0\n",
       "bathrooms                        679\n",
       "bathrooms_text                    16\n",
       "bedrooms                         111\n",
       "beds                             702\n",
       "amenities                          0\n",
       "price                            671\n",
       "minimum_nights                     0\n",
       "maximum_nights                     0\n",
       "calendar_updated               11027\n",
       "has_availability                  32\n",
       "availability_30                    0\n",
       "availability_60                    0\n",
       "availability_365                   0\n",
       "calendar_last_scraped              0\n",
       "number_of_reviews                  0\n",
       "number_of_reviews_ltm              0\n",
       "number_of_reviews_l30d             0\n",
       "last_review                     2449\n",
       "review_scores_rating            2449\n",
       "review_scores_accuracy          2450\n",
       "review_scores_cleanliness       2450\n",
       "review_scores_checkin           2450\n",
       "review_scores_communication     2449\n",
       "review_scores_location          2450\n",
       "review_scores_value             2449\n",
       "license                         9489\n",
       "instant_bookable                   0\n",
       "reviews_per_month               2449\n",
       "dtype: int64"
      ]
     },
     "execution_count": 13,
     "metadata": {},
     "output_type": "execute_result"
    }
   ],
   "source": [
    "valores_nulos = data.isnull().sum()\n",
    "valores_nulos"
   ]
  },
  {
   "cell_type": "markdown",
   "metadata": {},
   "source": [
    "Identificar valores nulos por DataFrame"
   ]
  },
  {
   "cell_type": "code",
   "execution_count": 15,
   "metadata": {},
   "outputs": [
    {
     "data": {
      "text/plain": [
       "np.int64(70271)"
      ]
     },
     "execution_count": 15,
     "metadata": {},
     "output_type": "execute_result"
    }
   ],
   "source": [
    "valores_nulos = data.isnull().sum().sum()\n",
    "valores_nulos"
   ]
  },
  {
   "cell_type": "markdown",
   "metadata": {},
   "source": [
    "**Métodos de Sustitución**"
   ]
  },
  {
   "cell_type": "code",
   "execution_count": 16,
   "metadata": {},
   "outputs": [],
   "source": [
    "data1 = data.copy()"
   ]
  },
  {
   "cell_type": "markdown",
   "metadata": {},
   "source": [
    "**Por Promedio**"
   ]
  },
  {
   "cell_type": "markdown",
   "metadata": {},
   "source": [
    "Descripción: En este método, vemos como se pueden rellenar los valores nulos de ciertas columnas en el DataFrame data1 utilizando la media (promedio) de esas mismas columnas en el DataFrame data original."
   ]
  },
  {
   "cell_type": "code",
   "execution_count": 22,
   "metadata": {},
   "outputs": [],
   "source": [
    "# data1[\"\"] = data1[\"\"].fillna(round(data[\"\"].mean(),1))\n",
    "data1[\"host_response_rate\"] = data1[\"host_response_rate\"].fillna(round(data[\"host_response_rate\"].mean(),1))\n",
    "data1[\"host_acceptance_rate\"] = data1[\"host_acceptance_rate\"].fillna(round(data[\"host_acceptance_rate\"].mean(),1))\n",
    "data1[\"bathrooms\"] = data1[\"bathrooms\"].fillna(round(data[\"bathrooms\"].mean(),1))\n",
    "data1[\"bedrooms\"] = data1[\"bedrooms\"].fillna(round(data[\"bedrooms\"].mean(),1))\n",
    "data1[\"beds\"] = data1[\"beds\"].fillna(round(data[\"beds\"].mean(),1))\n",
    "data1[\"price\"] = data1[\"price\"].fillna(round(data[\"price\"].mean(),1))\n",
    "data1[\"review_scores_rating\"] = data1[\"review_scores_rating\"].fillna(round(data[\"review_scores_rating\"].mean(),1))"
   ]
  },
  {
   "cell_type": "markdown",
   "metadata": {},
   "source": [
    "**Por mediana**"
   ]
  },
  {
   "cell_type": "markdown",
   "metadata": {},
   "source": [
    "Descripción: En este método, vemos como rellenar los valores nulos en varias columnas del DataFrame data1 utilizando la mediana de esas mismas columnas en el DataFrame data, cuyos resultados se redondean a un decimal."
   ]
  },
  {
   "cell_type": "code",
   "execution_count": 26,
   "metadata": {},
   "outputs": [],
   "source": [
    "data1[\"review_scores_accuracy\"] = data1[\"review_scores_accuracy\"].fillna(round(data[\"review_scores_accuracy\"].median(),1))\n",
    "data1[\"review_scores_cleanliness\"] = data1[\"review_scores_cleanliness\"].fillna(round(data[\"review_scores_cleanliness\"].median(),1))\n",
    "data1[\"review_scores_checkin\"] = data1[\"review_scores_checkin\"].fillna(round(data[\"review_scores_checkin\"].median(),1))\n",
    "data1[\"review_scores_communication\"] = data1[\"review_scores_communication\"].fillna(round(data[\"review_scores_communication\"].median(),1))\n",
    "data1[\"review_scores_location\"] = data1[\"review_scores_location\"].fillna(round(data[\"review_scores_location\"].median(),1))\n",
    "data1[\"review_scores_value\"] = data1[\"review_scores_value\"].fillna(round(data[\"review_scores_value\"].median(),1))\n",
    "data1[\"reviews_per_month\"] = data1[\"reviews_per_month\"].fillna(round(data[\"reviews_per_month\"].median(),1))\n",
    "\n",
    "# data1[\"\"] = data1[\"\"].fillna(round(data[\"\"].median(),1))\n"
   ]
  },
  {
   "cell_type": "markdown",
   "metadata": {},
   "source": [
    "**Por String Concreto**"
   ]
  },
  {
   "cell_type": "markdown",
   "metadata": {},
   "source": [
    "Descripción: En este método se encarga de rellenar los valores nulos en varias columnas del DataFrame data1 con la cadena de texto \"Sin especificar\". "
   ]
  },
  {
   "cell_type": "code",
   "execution_count": 28,
   "metadata": {},
   "outputs": [],
   "source": [
    "data1[\"description\"] = data1[\"description\"].fillna(\"Sin especificar\")\n",
    "data1[\"neighborhood_overview\"] = data1[\"neighborhood_overview\"].fillna(\"Sin especificar\")\n",
    "data1[\"host_about\"] = data1[\"host_about\"].fillna(\"Sin especificar\")\n",
    "data1[\"host_response_time\"] = data1[\"host_response_time\"].fillna(\"Sin especificar\")\n",
    "data1[\"host_is_superhost\"] = data1[\"host_is_superhost\"].fillna(\"Sin especificar\")\n",
    "data1[\"neighbourhood\"] = data1[\"neighbourhood\"].fillna(\"Sin especificar\")\n",
    "data1[\"bathrooms_text\"] = data1[\"bathrooms_text\"].fillna(\"Sin especificar\")\n",
    "data1[\"calendar_updated\"] = data1[\"calendar_updated\"].fillna(\"Sin especificar\")\n",
    "data1[\"has_availability\"] = data1[\"has_availability\"].fillna(\"Sin especificar\")\n",
    "data1[\"last_review\"] = data1[\"last_review\"].fillna(\"Sin especificar\")\n",
    "data1[\"license\"] = data1[\"license\"].fillna(\"Sin especificar\")"
   ]
  },
  {
   "cell_type": "markdown",
   "metadata": {},
   "source": [
    "**Corroborar Valores Absolutos**"
   ]
  },
  {
   "cell_type": "code",
   "execution_count": 29,
   "metadata": {},
   "outputs": [
    {
     "data": {
      "text/plain": [
       "id                             0\n",
       "last_scraped                   0\n",
       "name                           0\n",
       "description                    0\n",
       "neighborhood_overview          0\n",
       "picture_url                    0\n",
       "host_name                      0\n",
       "host_since                     0\n",
       "host_about                     0\n",
       "host_response_time             0\n",
       "host_response_rate             0\n",
       "host_acceptance_rate           0\n",
       "host_is_superhost              0\n",
       "host_listings_count            0\n",
       "host_total_listings_count      0\n",
       "host_verifications             0\n",
       "host_has_profile_pic           0\n",
       "host_identity_verified         0\n",
       "neighbourhood                  0\n",
       "property_type                  0\n",
       "room_type                      0\n",
       "accommodates                   0\n",
       "bathrooms                      0\n",
       "bathrooms_text                 0\n",
       "bedrooms                       0\n",
       "beds                           0\n",
       "amenities                      0\n",
       "price                          0\n",
       "minimum_nights                 0\n",
       "maximum_nights                 0\n",
       "calendar_updated               0\n",
       "has_availability               0\n",
       "availability_30                0\n",
       "availability_60                0\n",
       "availability_365               0\n",
       "calendar_last_scraped          0\n",
       "number_of_reviews              0\n",
       "number_of_reviews_ltm          0\n",
       "number_of_reviews_l30d         0\n",
       "last_review                    0\n",
       "review_scores_rating           0\n",
       "review_scores_accuracy         0\n",
       "review_scores_cleanliness      0\n",
       "review_scores_checkin          0\n",
       "review_scores_communication    0\n",
       "review_scores_location         0\n",
       "review_scores_value            0\n",
       "license                        0\n",
       "instant_bookable               0\n",
       "reviews_per_month              0\n",
       "dtype: int64"
      ]
     },
     "execution_count": 29,
     "metadata": {},
     "output_type": "execute_result"
    }
   ],
   "source": [
    "valores_nulos = data1.isnull().sum()\n",
    "valores_nulos"
   ]
  },
  {
   "cell_type": "code",
   "execution_count": 30,
   "metadata": {},
   "outputs": [
    {
     "data": {
      "text/plain": [
       "np.int64(0)"
      ]
     },
     "execution_count": 30,
     "metadata": {},
     "output_type": "execute_result"
    }
   ],
   "source": [
    "valores_nulos = data1.isnull().sum().sum()\n",
    "valores_nulos"
   ]
  },
  {
   "cell_type": "markdown",
   "metadata": {},
   "source": [
    "**Convertir DataSet sin valores nulos a CSV**"
   ]
  },
  {
   "cell_type": "code",
   "execution_count": 31,
   "metadata": {},
   "outputs": [],
   "source": [
    "# Covertir DataFrame a CSV\n",
    "data1.to_csv(\"Naples_sin_nulos.csv\")"
   ]
  }
 ],
 "metadata": {
  "kernelspec": {
   "display_name": "Python 3",
   "language": "python",
   "name": "python3"
  },
  "language_info": {
   "codemirror_mode": {
    "name": "ipython",
    "version": 3
   },
   "file_extension": ".py",
   "mimetype": "text/x-python",
   "name": "python",
   "nbconvert_exporter": "python",
   "pygments_lexer": "ipython3",
   "version": "3.13.1"
  }
 },
 "nbformat": 4,
 "nbformat_minor": 2
}
